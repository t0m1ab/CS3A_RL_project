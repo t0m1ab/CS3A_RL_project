{
 "cells": [
  {
   "cell_type": "markdown",
   "metadata": {},
   "source": [
    "# Sandbox"
   ]
  },
  {
   "cell_type": "markdown",
   "metadata": {},
   "source": [
    "### <span style=\"color:red\">Please clean all outputs before add/commit/push</span>."
   ]
  },
  {
   "cell_type": "code",
   "execution_count": null,
   "metadata": {},
   "outputs": [],
   "source": [
    "import numpy as np\n",
    "import gymnasium as gym"
   ]
  },
  {
   "cell_type": "markdown",
   "metadata": {},
   "source": [
    "### Gymnasium environment demo"
   ]
  },
  {
   "cell_type": "code",
   "execution_count": null,
   "metadata": {},
   "outputs": [],
   "source": [
    "env = gym.make(\"Blackjack-v1\", sab=True) # create Blackjack environment following Sutto & Barto description"
   ]
  },
  {
   "cell_type": "code",
   "execution_count": null,
   "metadata": {},
   "outputs": [],
   "source": [
    "print(\"Observation space:\", env.observation_space) # the agent can see the following: his current sum, whether he has a usable ace and the dealer's one showing card\n",
    "\n",
    "print(\"\\nSize of the Action space =\", env.action_space.n) # the agent can only choose between 2 actions: Hit(1) or Stick(0)"
   ]
  },
  {
   "cell_type": "code",
   "execution_count": null,
   "metadata": {},
   "outputs": [],
   "source": [
    "env.reset() # reset the environment to an initial internal state (random state to ensure exploration here), returning an initial observation and info."
   ]
  },
  {
   "cell_type": "code",
   "execution_count": null,
   "metadata": {},
   "outputs": [],
   "source": [
    "action = 2\n",
    "has_action = env.action_space.contains(action)\n",
    "print(f\"Env contains action {action}: {has_action}\") # check if the action space contains the action 2\n",
    "\n",
    "random_action = env.action_space.sample() # sample a random action from the action space\n",
    "print(\"\\nRandomly sample action {random_action}\")"
   ]
  },
  {
   "cell_type": "code",
   "execution_count": null,
   "metadata": {},
   "outputs": [],
   "source": [
    "env.step(1) # return the current observation"
   ]
  },
  {
   "cell_type": "markdown",
   "metadata": {},
   "source": [
    "After receiving our first observation, we are only going to use the env.step(action) function to interact with the environment. This function takes an action as input and executes it in the environment. Because that action changes the state of the environment, it returns four useful variables to us. These are:\n",
    "\n",
    "* `next_state` - This is the observation that the agent will receive after taking the action.\n",
    "* `reward` - This is the reward that the agent will receive after taking the action.\n",
    "* `terminated` - This is a boolean variable that indicates whether or not the environment has terminated.\n",
    "* `truncated` - This is a boolean variable that also indicates whether the episode ended by early truncation, i.e., a time limit is reached.\n",
    "* `info` - This is a dictionary that might contain additional information about the environment."
   ]
  },
  {
   "cell_type": "markdown",
   "metadata": {},
   "source": [
    "### Demo why default_dict can be useful"
   ]
  },
  {
   "cell_type": "code",
   "execution_count": null,
   "metadata": {},
   "outputs": [],
   "source": [
    "from collections import defaultdict \n",
    "    \n",
    "d = defaultdict(int) \n",
    "L = [1, 2, 3, 4, 2, 4, 1, 2] \n",
    "for i in L: \n",
    "    d[i] += 1 # value by default is 0 therefore there is no need to initialize it => no error\n",
    "print(d) \n",
    "\n",
    "d = defaultdict(lambda: 0) # another way to declare the default value\n",
    "L = [1, 2, 3, 4, 2, 4, 1, 2] \n",
    "for i in L: \n",
    "    d[i] += 1\n",
    "print(d) "
   ]
  },
  {
   "cell_type": "markdown",
   "metadata": {},
   "source": [
    "### Gymnasium environments management"
   ]
  },
  {
   "cell_type": "code",
   "execution_count": null,
   "metadata": {},
   "outputs": [],
   "source": [
    "gym.pprint_registry() # show registered environments\n",
    "dict_envs = gym.envs.registration.registry.items() # fetch all env_id:env_builder pairs"
   ]
  },
  {
   "cell_type": "code",
   "execution_count": null,
   "metadata": {},
   "outputs": [],
   "source": [
    "# create a fake env to register\n",
    "class FakeEnv(gym.Env):\n",
    "    def __init__(self, n: int):\n",
    "        self.action_space = gym.spaces.Discrete(n=n)\n",
    "        self.observation_space = gym.spaces.Box(low=0, high=1, shape=(3,3), dtype=np.uint8)"
   ]
  },
  {
   "cell_type": "code",
   "execution_count": null,
   "metadata": {},
   "outputs": [],
   "source": [
    "# register a custom env\n",
    "\n",
    "with gym.envs.registration.namespace(ns=\"my_envs\"):\n",
    "    gym.register(\n",
    "        id=\"fake_env\",\n",
    "        entry_point=FakeEnv\n",
    "    )\n",
    "    print(f\"New environment was registered in the namespace: {gym.envs.registration.current_namespace}\")\n",
    "\n",
    "# then run gym.pprint_registry() to see your env registered in the list"
   ]
  },
  {
   "cell_type": "code",
   "execution_count": null,
   "metadata": {},
   "outputs": [],
   "source": [
    "gym.spec(env_id=\"my_envs/fake_env\") # print specifications of an env"
   ]
  },
  {
   "cell_type": "code",
   "execution_count": null,
   "metadata": {},
   "outputs": [],
   "source": [
    "fake_env = gym.make(id=\"my_envs/fake_env\", n=10) # create the environment\n",
    "\n",
    "print(fake_env.unwrapped.action_space)\n",
    "print(fake_env.unwrapped.observation_space)"
   ]
  },
  {
   "cell_type": "markdown",
   "metadata": {},
   "source": [
    "### free zone"
   ]
  },
  {
   "cell_type": "code",
   "execution_count": null,
   "metadata": {},
   "outputs": [],
   "source": [
    "pass"
   ]
  }
 ],
 "metadata": {
  "kernelspec": {
   "display_name": ".venv",
   "language": "python",
   "name": "python3"
  },
  "language_info": {
   "codemirror_mode": {
    "name": "ipython",
    "version": 3
   },
   "file_extension": ".py",
   "mimetype": "text/x-python",
   "name": "python",
   "nbconvert_exporter": "python",
   "pygments_lexer": "ipython3",
   "version": "3.11.5"
  }
 },
 "nbformat": 4,
 "nbformat_minor": 2
}
